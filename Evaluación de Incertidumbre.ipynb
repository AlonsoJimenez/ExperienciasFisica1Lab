{
 "cells": [
  {
   "cell_type": "markdown",
   "id": "5858b67e",
   "metadata": {},
   "source": [
    "# Experiencia 2: Evaluación de la incertidumbre"
   ]
  },
  {
   "cell_type": "markdown",
   "id": "3dfd61e6",
   "metadata": {},
   "source": [
    "## 3.1 Incertidumbre estándar para la masa y la posición "
   ]
  },
  {
   "cell_type": "markdown",
   "id": "556419e8",
   "metadata": {},
   "source": [
    "1. Recupere la medición directa de la masa del porta-masas con una masa adicional (𝑚2) y\n",
    "obtenga la incertidumbre estándar asociada a esta medición. Como no hubo repeticiones en la\n",
    "medición para esta magnitud la incertidumbre estándar solo tiene componente asociada a\n",
    "incertidumbre Tipo B, la cual se relaciona con la resolución del instrumento de medición. \n",
    "\n",
    "$U_B = \\dfrac{\\Delta A_m}{2 \\cdot \\sqrt{3}}$\n",
    "\n",
    "2. Reporte de manera adecuada el resultado de la medición de la masa del porta-masas con una\n",
    "masa adicional (𝑚2)."
   ]
  },
  {
   "cell_type": "code",
   "execution_count": 38,
   "id": "2f360f4c",
   "metadata": {},
   "outputs": [
    {
     "data": {
      "application/vnd.jupyter.widget-view+json": {
       "model_id": "e51ee8d61e6a48bb84e1c0411c2f65c2",
       "version_major": 2,
       "version_minor": 0
      },
      "text/plain": [
       "HBox(children=(Label(value='Seleccione Equipo'), IntSlider(value=1, max=7, min=1)))"
      ]
     },
     "metadata": {},
     "output_type": "display_data"
    },
    {
     "data": {
      "application/vnd.jupyter.widget-view+json": {
       "model_id": "84bc4b4f0cf84634be34a4115f113443",
       "version_major": 2,
       "version_minor": 0
      },
      "text/plain": [
       "Output()"
      ]
     },
     "metadata": {},
     "output_type": "display_data"
    }
   ],
   "source": [
    "from IPython.display import display\n",
    "from ipywidgets import interactive\n",
    "import ipywidgets as widgets\n",
    "from IPython.display import display\n",
    "import numpy as np\n",
    "import matplotlib.pyplot as plt\n",
    "import pandas as pd\n",
    "\n",
    "equipoEtiqueta = widgets.Label (value=\"Seleccione Equipo\")\n",
    "equipo = widgets.IntSlider(min=1, max=7)\n",
    "cajaEquipo = widgets.HBox([equipoEtiqueta, equipo])\n",
    "\n",
    "\n",
    "\n",
    "def medicionMasas(equipo):\n",
    "    datos = pd.read_excel('semana-3_Datos_experiencias_I-2022.xlsx', sheet_name = equipo, header = 12, nrows = 1)\n",
    "    return datos['Masa del portamasas m2 (g)'][0]\n",
    "\n",
    "\n",
    "def resoluciones(equipo):\n",
    "    datos = pd.read_excel('semana-3_Datos_experiencias_I-2022.xlsx', sheet_name = equipo, header = 17, nrows = 5)\n",
    "    return datos['Unnamed: 13']\n",
    "\n",
    "\n",
    "def obtenerIncertidumbre(res):\n",
    "    return res / (2* 3**(1/2))\n",
    "\n",
    "def texto1(equipo):\n",
    "    masa = medicionMasas(equipo - 1)\n",
    "    resolucion = resoluciones(equipo - 1)\n",
    "    \n",
    "    incertidumbre = obtenerIncertidumbre(resolucion[0])\n",
    "    \n",
    "    fig, ax = plt.subplots (dpi=120)\n",
    "    \n",
    "    ax.text(x=0.35, y=0.5, s='(' + str(round(masa, 3)) +'$\\pm$'+ str(round(incertidumbre, 3)) + ') g' )\n",
    "    \n",
    "    ax.set_yticklabels([])\n",
    "    ax.set_xticklabels([])\n",
    "\n",
    "    plt.show()\n",
    "\n",
    "\n",
    "\n",
    "    return\n",
    "\n",
    "salida = widgets.interactive_output(texto1, {'equipo': equipo})\n",
    "display(cajaEquipo, salida)"
   ]
  },
  {
   "cell_type": "markdown",
   "id": "1d7ae764",
   "metadata": {},
   "source": [
    "3. Obtenga la incertidumbre estándar asociada a cada medición de la posición, como no hubo\n",
    "repeticiones en la medición para esta magnitud la incertidumbre estándar solo posee\n",
    "componente de incertidumbre Tipo B, la cual se relaciona con el instrumento de medición.\n",
    "\n",
    "$U_B = \\dfrac{\\Delta A_x}{2 \\cdot \\sqrt{3}}$\n",
    "\n",
    "4. Reporte adecuadamente el resultado de cada medición de la posición"
   ]
  },
  {
   "cell_type": "code",
   "execution_count": 37,
   "id": "c681f6b1",
   "metadata": {},
   "outputs": [
    {
     "data": {
      "application/vnd.jupyter.widget-view+json": {
       "model_id": "0ccc4387c4684e0dbed0f04d3770e292",
       "version_major": 2,
       "version_minor": 0
      },
      "text/plain": [
       "HBox(children=(Label(value='Seleccione Equipo'), IntSlider(value=1, max=7, min=1)))"
      ]
     },
     "metadata": {},
     "output_type": "display_data"
    },
    {
     "data": {
      "application/vnd.jupyter.widget-view+json": {
       "model_id": "d0f9777cf4a24525a3d566b6f8d2cc3f",
       "version_major": 2,
       "version_minor": 0
      },
      "text/plain": [
       "Output()"
      ]
     },
     "metadata": {},
     "output_type": "display_data"
    }
   ],
   "source": [
    "equipoEtiqueta = widgets.Label (value=\"Seleccione Equipo\")\n",
    "equipo = widgets.IntSlider(min=1, max=7)\n",
    "cajaEquipo = widgets.HBox([equipoEtiqueta, equipo])\n",
    "\n",
    "def medicionPosicion(equipo):\n",
    "    datos = pd.read_excel('semana-3_Datos_experiencias_I-2022.xlsx', sheet_name = equipo, header = 3, nrows = 5, skiprows = [4])\n",
    "    return datos['Posición final x\\n (cm)']\n",
    "\n",
    "def texto2(equipo):\n",
    "    posicion = medicionPosicion(equipo - 1)\n",
    "    resolucion = resoluciones(equipo - 1)\n",
    "    \n",
    "    incertidumbre = obtenerIncertidumbre(resolucion[1])\n",
    "    \n",
    "    fig, ax = plt.subplots (dpi=120)\n",
    "    \n",
    "    posicionTexto = 0.15\n",
    "    \n",
    "    for i in range(5): \n",
    "        ax.text(x=0.35, y=posicionTexto, s='(' + str(round(posicion[i], 3)) +'$\\pm$'+ str(round(incertidumbre, 3)) + ') g' )\n",
    "        posicionTexto += 0.15\n",
    "\n",
    "    ax.set_yticklabels([])\n",
    "    ax.set_xticklabels([])    \n",
    "    plt.show()\n",
    "\n",
    "\n",
    "\n",
    "    return\n",
    "\n",
    "salida = widgets.interactive_output(texto2, {'equipo': equipo})\n",
    "display(cajaEquipo, salida)\n",
    "\n",
    "\n",
    "\n"
   ]
  },
  {
   "cell_type": "markdown",
   "id": "ef1265a9",
   "metadata": {},
   "source": [
    "## 3.2 Incertidumbre estándar para el tiempo de desplazamiento, la velocidad y la aceleración\n"
   ]
  },
  {
   "cell_type": "markdown",
   "id": "cd77790d",
   "metadata": {},
   "source": [
    "5. A partir de las 15 mediciones del tiempo que tardó el carrito en ir desde la posición inicial a otras\n",
    "posiciones de la segunda fotocelda, calcule la incertidumbre correspondiente a esta medición.\n",
    "Inicialmente obtenga la incertidumbre estándar Tipo A para el primer conjunto de valores del\n",
    "tiempo:\n",
    "\n",
    "$U_A=\\dfrac{S(t)}{\\sqrt{n}}$\n",
    "\n",
    "6. Seguidamente, calcule la incertidumbre estándar Tipo B para el tiempo, considerando que el\n",
    "instrumento era digital:\n",
    "\n",
    "$U_B=\\dfrac{\\Delta A_t}{2 \\cdot \\sqrt{3}}$\n",
    "\n",
    "7. Finalmente, calcule la incertidumbre estándar de la medición del tiempo:\n",
    "\n",
    "$u(t)=\\sqrt{U_A^2 + U_B^2}$\n",
    "\n",
    "8. Presente adecuadamente el resultado de la medición del tiempo promedio para las 15 medidas\n",
    "tomadas en el primer desplazamiento. Repita para todos los 15 valores de tiempo promedio\n",
    "que midió en las otras posiciones."
   ]
  },
  {
   "cell_type": "code",
   "execution_count": 54,
   "id": "f252acf5",
   "metadata": {},
   "outputs": [
    {
     "data": {
      "application/vnd.jupyter.widget-view+json": {
       "model_id": "978172ef7655470ab90548353e9708c1",
       "version_major": 2,
       "version_minor": 0
      },
      "text/plain": [
       "HBox(children=(Label(value='Seleccione Equipo'), IntSlider(value=1, max=7, min=1)))"
      ]
     },
     "metadata": {},
     "output_type": "display_data"
    },
    {
     "data": {
      "application/vnd.jupyter.widget-view+json": {
       "model_id": "22b2bbf0ec394d00a2c549ead443482a",
       "version_major": 2,
       "version_minor": 0
      },
      "text/plain": [
       "Output()"
      ]
     },
     "metadata": {},
     "output_type": "display_data"
    }
   ],
   "source": [
    "equipoEtiqueta = widgets.Label (value=\"Seleccione Equipo\")\n",
    "equipo = widgets.IntSlider(min=1, max=7)\n",
    "cajaEquipo = widgets.HBox([equipoEtiqueta, equipo])\n",
    "\n",
    "def calcularPromedio(datos, rango, filas):\n",
    "    listaReacomodada = np.zeros((filas, rango))\n",
    "    promedios = []\n",
    "    for i in range(rango):\n",
    "        for j in range(filas ):\n",
    "            listaReacomodada[j][i] = datos.at[j, i+1]\n",
    "    for data in range(filas):\n",
    "        promedios += [np.average(listaReacomodada[data])]\n",
    "    return promedios\n",
    "\n",
    "def calcularDesviacionEstandar(datos, rango, filas):\n",
    "    listaReacomodada = np.zeros((filas, rango))\n",
    "    desviaciones = []\n",
    "    for i in range(rango):\n",
    "        for j in range(filas ):\n",
    "            listaReacomodada[j][i] = datos.at[j, i+1]\n",
    "    for data in range(filas):\n",
    "        desviaciones += [np.std(listaReacomodada[data])]\n",
    "    return desviaciones\n",
    "\n",
    "def obetenerDatosTiempo(equipo):\n",
    "    datos = pd.read_excel('semana-3_Datos_experiencias_I-2022.xlsx', sheet_name = equipo, header = 4, nrows = 5)\n",
    "    return datos\n",
    "\n",
    "def incertidumbreEstandar(A, B):\n",
    "    resultado = (A**2 + B**2)**(1/2)\n",
    "    return resultado\n",
    "\n",
    "def texto3(equipo):\n",
    "    datos = obetenerDatosTiempo(equipo - 1)\n",
    "    valoresYPromedios = calcularPromedio(datos, 15, 5)\n",
    "    valoresYDesviaciones = calcularDesviacionEstandar(datos, 15, 5)\n",
    "    resolucion = resoluciones(equipo - 1)\n",
    "    \n",
    "    incertidumbre = obtenerIncertidumbre(resolucion[2])\n",
    "    \n",
    "    print('Ua1='+ str(round(incertidumbre, 6)))\n",
    "    print('Ub1='+ str(round(valoresYDesviaciones[0]/(15**(1/2)), 6)))\n",
    "    print('Ut1=' + str(round((incertidumbre**2 + (valoresYDesviaciones[0]/(15**(1/2)))**2)**(1/2), 6)))\n",
    "    \n",
    "    fig, ax = plt.subplots (dpi=120)\n",
    "    \n",
    "    posicionTexto = 0.15\n",
    "    \n",
    "    for i in range(5): \n",
    "        ax.text(x=0.35, y=posicionTexto, s='(' + str(round(valoresYPromedios[i], 6)) +'$\\pm$'+ str(round(incertidumbreEstandar(valoresYDesviaciones[i]/(15**(1/2)), incertidumbre), 6)) + ') s' )\n",
    "        posicionTexto += 0.15\n",
    "\n",
    "    ax.set_yticklabels([])\n",
    "    ax.set_xticklabels([])    \n",
    "    plt.show()\n",
    "\n",
    "\n",
    "\n",
    "    return\n",
    "\n",
    "salida = widgets.interactive_output(texto3, {'equipo': equipo})\n",
    "display(cajaEquipo, salida)\n"
   ]
  },
  {
   "cell_type": "markdown",
   "id": "6a71e55e",
   "metadata": {},
   "source": [
    "9. Obtenga el valor de la incertidumbre estándar para cada valor promedio de la velocidad.\n",
    "Reporte adecuadamente el resultado de la medición de los valores de velocidad promedio."
   ]
  },
  {
   "cell_type": "code",
   "execution_count": 63,
   "id": "e76dfebc",
   "metadata": {},
   "outputs": [
    {
     "data": {
      "application/vnd.jupyter.widget-view+json": {
       "model_id": "8fc07b476bdf49b7bd460ccae0c5f51a",
       "version_major": 2,
       "version_minor": 0
      },
      "text/plain": [
       "HBox(children=(Label(value='Seleccione Equipo'), IntSlider(value=1, max=7, min=1)))"
      ]
     },
     "metadata": {},
     "output_type": "display_data"
    },
    {
     "data": {
      "application/vnd.jupyter.widget-view+json": {
       "model_id": "d757d7830b42473c8f957ca8ba72d73a",
       "version_major": 2,
       "version_minor": 0
      },
      "text/plain": [
       "Output()"
      ]
     },
     "metadata": {},
     "output_type": "display_data"
    }
   ],
   "source": [
    "equipoEtiqueta = widgets.Label (value=\"Seleccione Equipo\")\n",
    "equipo = widgets.IntSlider(min=1, max=7)\n",
    "cajaEquipo = widgets.HBox([equipoEtiqueta, equipo])\n",
    "\n",
    "def obetenerDatosVelocidad(equipo):\n",
    "    datos = pd.read_excel('semana-3_Datos_experiencias_I-2022.xlsx', sheet_name = equipo, header = 18, nrows = 8, skiprows = [19])\n",
    "    return datos\n",
    "\n",
    "def texto4(equipo):\n",
    "    datos = obetenerDatosVelocidad(equipo - 1)\n",
    "    valoresYPromedios = calcularPromedio(datos, 3, 6)\n",
    "    valoresYDesviaciones = calcularDesviacionEstandar(datos, 3, 6)\n",
    "    resolucion = resoluciones(equipo - 1)\n",
    "    \n",
    "    incertidumbre = obtenerIncertidumbre(resolucion[3])\n",
    "    \n",
    "    \n",
    "    fig, ax = plt.subplots (dpi=120)\n",
    "    \n",
    "    posicionTexto = 0.15\n",
    "    \n",
    "    for i in range(6): \n",
    "        ax.text(x=0.35, y=posicionTexto, s='(' + str(round(valoresYPromedios[i], 3)) +'$\\pm$'+ str(round(incertidumbreEstandar(valoresYDesviaciones[i]/(15**(1/2)), incertidumbre), 3)) + ') cm/s' )\n",
    "        posicionTexto += 0.15\n",
    "\n",
    "    ax.set_yticklabels([])\n",
    "    ax.set_xticklabels([])    \n",
    "    plt.show()\n",
    "\n",
    "\n",
    "\n",
    "    return\n",
    "\n",
    "salida = widgets.interactive_output(texto4, {'equipo': equipo})\n",
    "display(cajaEquipo, salida)"
   ]
  },
  {
   "cell_type": "markdown",
   "id": "71b68afd",
   "metadata": {},
   "source": [
    "10. Obtenga un único valor promedio de todos los valores de aceleración medidos (utilice como\n",
    "muestra todos los valores medidos en la posición de 40 cm, 50 cm, y 70 cm).\n",
    "\n",
    "11. Calcule la incertidumbre estándar del valor de aceleración promedio calculado en el paso\n",
    "anterior y reporte adecuadamente la medición.\n",
    "\n",
    "12. Exprese adecuadamente el resultado del valor promedio de la aceleración determinado en el\n",
    "paso anterior, pero usando su incertidumbre estándar relativa. Esta incertidumbre se obtiene\n",
    "al dividir el valor de la incertidumbre estándar, entre el valor promedio de la aceleración:\n",
    "\n",
    "$𝑢_{𝑟𝑒𝑙,𝑎}= \\left|\\dfrac{U_a}{\\overline{a}}\\right| \\cdot 100%$\n"
   ]
  },
  {
   "cell_type": "code",
   "execution_count": 62,
   "id": "c94949d8",
   "metadata": {},
   "outputs": [
    {
     "data": {
      "application/vnd.jupyter.widget-view+json": {
       "model_id": "5d27bd335423404796d5ae10004d26bf",
       "version_major": 2,
       "version_minor": 0
      },
      "text/plain": [
       "HBox(children=(Label(value='Seleccione Equipo'), IntSlider(value=1, max=7, min=1)))"
      ]
     },
     "metadata": {},
     "output_type": "display_data"
    },
    {
     "data": {
      "application/vnd.jupyter.widget-view+json": {
       "model_id": "69a771402080485f8e4d310fba78b1a8",
       "version_major": 2,
       "version_minor": 0
      },
      "text/plain": [
       "Output()"
      ]
     },
     "metadata": {},
     "output_type": "display_data"
    }
   ],
   "source": [
    "equipoEtiqueta = widgets.Label (value=\"Seleccione Equipo\")\n",
    "equipo = widgets.IntSlider(min=1, max=7)\n",
    "cajaEquipo = widgets.HBox([equipoEtiqueta, equipo])\n",
    "\n",
    "def obetenerDatosAceleracion(equipo):\n",
    "    datos = pd.read_excel('semana-3_Datos_experiencias_I-2022.xlsx', sheet_name = equipo, header = 18, nrows = 3, skiprows = [19], usecols = [6, 7, 8, 9])\n",
    "    return datos\n",
    "\n",
    "def calcularPromedioA(datos, rango, filas):\n",
    "    listaReacomodada = np.zeros((filas, rango))\n",
    "    promedios = []\n",
    "    for i in range(rango):\n",
    "        for j in range(filas ):\n",
    "            listaReacomodada[j][i] = datos.at[j, str(i+1.1)]\n",
    "    for data in range(filas):\n",
    "        promedios += [np.average(listaReacomodada[data])]\n",
    "    return promedios\n",
    "\n",
    "def calcularDesviacionEstandarA(datos, rango, filas):\n",
    "    listaReacomodada = np.zeros((filas, rango))\n",
    "    desviaciones = []\n",
    "    for i in range(rango):\n",
    "        for j in range(filas ):\n",
    "            listaReacomodada[j][i] = datos.at[j, str(i+1.1)]\n",
    "    for data in range(filas):\n",
    "        desviaciones += [np.std(listaReacomodada[data])]\n",
    "    return desviaciones\n",
    "\n",
    "def texto4(equipo):\n",
    "    datos = obetenerDatosAceleracion(equipo - 1)\n",
    "    valoresYPromedios = calcularPromedioA(datos, 3, 3)\n",
    "    valoresYDesviaciones = calcularDesviacionEstandarA(datos, 3, 3)\n",
    "    resolucion = resoluciones(equipo - 1)\n",
    "    \n",
    "    incertidumbre = obtenerIncertidumbre(resolucion[4])\n",
    "    \n",
    "    \n",
    "    fig, ax = plt.subplots (dpi=120)\n",
    "    \n",
    "    posicionTexto = 0.15\n",
    "    \n",
    "    for i in range(3): \n",
    "        ax.text(x=0.35, y=posicionTexto, s='(' + str(round(valoresYPromedios[i], 3)) +'$\\pm$'+ str(round(incertidumbreEstandar(valoresYDesviaciones[i]/(15**(1/2)), incertidumbre), 3)) + ') $cm/s^2$' )\n",
    "        posicionTexto += 0.15\n",
    "        \n",
    "    for i in range(3): \n",
    "        ax.text(x=0.35, y=posicionTexto, s=str(round(valoresYPromedios[i], 3)) + ' $ cm/s^2\\pm$'+ str(round(incertidumbreEstandar(valoresYDesviaciones[i]/(15**(1/2)), incertidumbre) *100/valoresYPromedios[i] , 3)) + '%' )\n",
    "        posicionTexto += 0.15\n",
    "\n",
    "    ax.set_yticklabels([])\n",
    "    ax.set_xticklabels([])    \n",
    "    plt.show()\n",
    "\n",
    "\n",
    "\n",
    "    return\n",
    "\n",
    "salida = widgets.interactive_output(texto4, {'equipo': equipo})\n",
    "display(cajaEquipo, salida)"
   ]
  },
  {
   "cell_type": "markdown",
   "id": "a57c873b",
   "metadata": {},
   "source": [
    "## 3.3 Incertidumbre estándar combinada para la aceleración"
   ]
  },
  {
   "cell_type": "markdown",
   "id": "1f12eba0",
   "metadata": {},
   "source": [
    "13. Calcule el valor de la aceleración promedio para la posición final de 50 cm de la fotocelda a partir\n",
    "de los promedios de velocidad final, velocidad inicial y el tiempo. Utilice la siguiente relación:\n",
    "\n",
    "$\\overline{a}=\\dfrac{\\overline{v}-\\overline{v_o}}{\\overline{t}}$\n",
    "\n",
    "donde 𝑎 representa la aceleración promedio, 𝑡 representa el tiempo promedio que tardó el\n",
    "carrito en cambiar su velocidad desde un valor inicial 𝑣𝑜 (en la posición de 30 cm) hasta el valor\n",
    "final 𝑣 (en la posición de 50 cm).\n",
    "\n",
    "14. Obtenga la incertidumbre estándar combinada de la aceleración a partir de la ley de la\n",
    "propagación de la incertidumbre:\n",
    "\n",
    "$u_c(a)=\\sqrt{(u(v) \\dfrac{\\delta a}{\\delta v})^2+(u(v_o) \\dfrac{\\delta a}{\\delta V_o})^2+(u(t) \\dfrac{\\delta a}{\\delta t})^2}$\n",
    "\n",
    "$=\\sqrt{(\\dfrac{1}{\\overline{t}})^2u^2(v)+(\\dfrac{-1}{\\overline{t}})u^2(v_o)+(\\dfrac{\\overline{v_o}-\\overline{v}}{\\overline{t^2}})^2u^2(t)}$\n",
    "\n",
    "En la ecuación anterior 𝑢(𝑣), 𝑢(𝑣𝑜\n",
    ") y 𝑢(𝑡) representan la incertidumbre estándar de la\n",
    "velocidad final, velocidad inicial y tiempo de recorrido asociados a los valores utilizados para el\n",
    "cálculo de la ecuación 7.\n",
    "15. Exprese adecuadamente el resultado de la aceleración de la forma 𝑎 = 𝑎̅ ± 𝑢𝑐(𝑎).\n",
    "16. Utilice la ecuación 6 para calcular la incertidumbre como un porcentaje del valor promedio y\n",
    "exprese adecuadamente el resultado de la aceleración como incertidumbre estándar relativa. "
   ]
  },
  {
   "cell_type": "code",
   "execution_count": 72,
   "id": "e220a963",
   "metadata": {},
   "outputs": [
    {
     "data": {
      "application/vnd.jupyter.widget-view+json": {
       "model_id": "9cba2fbe95404edd8d9ca8f33380043a",
       "version_major": 2,
       "version_minor": 0
      },
      "text/plain": [
       "HBox(children=(Label(value='Seleccione Equipo'), IntSlider(value=1, max=7, min=1)))"
      ]
     },
     "metadata": {},
     "output_type": "display_data"
    },
    {
     "data": {
      "application/vnd.jupyter.widget-view+json": {
       "model_id": "ef4c4cc935ed4ef8b275d864e3ab006d",
       "version_major": 2,
       "version_minor": 0
      },
      "text/plain": [
       "Output()"
      ]
     },
     "metadata": {},
     "output_type": "display_data"
    }
   ],
   "source": [
    "equipoEtiqueta = widgets.Label (value=\"Seleccione Equipo\")\n",
    "equipo = widgets.IntSlider(min=1, max=7)\n",
    "cajaEquipo = widgets.HBox([equipoEtiqueta, equipo])\n",
    "\n",
    "def obetenerDatosVelocidad(equipo):\n",
    "    datos = pd.read_excel('semana-3_Datos_experiencias_I-2022.xlsx', sheet_name = equipo, header = 18, nrows = 8, skiprows = [19])\n",
    "    return datos\n",
    "\n",
    "def primerTermino(t, u):\n",
    "    res = 1/t\n",
    "    res = res * u\n",
    "    res = res**2\n",
    "    return res\n",
    "\n",
    "def segundoTermino(t, u):\n",
    "    res = -1/t\n",
    "    res = res * u\n",
    "    res = res**2\n",
    "    return res\n",
    "\n",
    "def tercerTermino(v, vo, t, u):\n",
    "    res = vo - v\n",
    "    res = res / (t**2)\n",
    "    res = res * u\n",
    "    res = res **2\n",
    "    return res\n",
    "\n",
    "\n",
    "def texto4(equipo):\n",
    "    datosTiem = obetenerDatosTiempo(equipo - 1)\n",
    "    valoresYPromediosTiem = calcularPromedio(datosTiem, 15, 5)\n",
    "    valoresYDesviacionesTiem = calcularDesviacionEstandar(datosTiem, 15, 5)\n",
    "    \n",
    "    datosVel = obetenerDatosVelocidad(equipo - 1)\n",
    "    valoresYPromediosVel = calcularPromedio(datosVel, 3, 6)\n",
    "    valoresYDesviacionesVel = calcularDesviacionEstandar(datosVel, 3, 6)\n",
    "    \n",
    "    resolucion = resoluciones(equipo - 1)\n",
    "    \n",
    "    uv = []\n",
    "    ut = []\n",
    "    a = []\n",
    "    \n",
    "    for i in range(6):\n",
    "        if i != 5:\n",
    "            uv += [incertidumbreEstandar(valoresYDesviacionesVel[i]/(15**(1/2)), resolucion[3])]\n",
    "            ut += [incertidumbreEstandar(valoresYDesviacionesTiem[i]/(15**(1/2)), resolucion[2])]\n",
    "            a += [(valoresYPromediosVel[i+1] - valoresYPromediosVel[i])/valoresYPromediosTiem[i]]\n",
    "        else:\n",
    "            uv += [incertidumbreEstandar(valoresYDesviacionesVel[i]/(15**(1/2)), resolucion[3])]\n",
    "        \n",
    "        \n",
    "    \n",
    "    fig, ax = plt.subplots (dpi=120)\n",
    "    \n",
    "\n",
    "    posicionTexto = 0.15\n",
    "    \n",
    "    for i in range(5): \n",
    "        ax.text(x=0.35, y=posicionTexto, s='(' + str(round(a[i], 3)) +'$\\pm$'+ str(round((primerTermino(valoresYPromediosTiem[i], uv[i+1]) + segundoTermino(valoresYPromediosTiem[i], uv[0]) + tercerTermino(valoresYPromediosVel[i+1], valoresYPromediosVel[0],valoresYPromediosTiem[i], ut[i]))**(1/2), 3)) + ') $cm/s^2$' )\n",
    "        posicionTexto += 0.15\n",
    "\n",
    "    ax.set_yticklabels([])\n",
    "    ax.set_xticklabels([])    \n",
    "    plt.show()    \n",
    "        \n",
    "\n",
    "    return\n",
    "\n",
    "salida = widgets.interactive_output(texto4, {'equipo': equipo})\n",
    "display(cajaEquipo, salida)"
   ]
  },
  {
   "cell_type": "code",
   "execution_count": null,
   "id": "edda20f4",
   "metadata": {},
   "outputs": [],
   "source": []
  }
 ],
 "metadata": {
  "kernelspec": {
   "display_name": "Python 3",
   "language": "python",
   "name": "python3"
  },
  "language_info": {
   "codemirror_mode": {
    "name": "ipython",
    "version": 3
   },
   "file_extension": ".py",
   "mimetype": "text/x-python",
   "name": "python",
   "nbconvert_exporter": "python",
   "pygments_lexer": "ipython3",
   "version": "3.8.8"
  }
 },
 "nbformat": 4,
 "nbformat_minor": 5
}
