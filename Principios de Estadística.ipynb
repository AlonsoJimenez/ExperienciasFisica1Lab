{
 "cells": [
  {
   "cell_type": "markdown",
   "id": "addfae45",
   "metadata": {},
   "source": [
    "# Experiencia 1: Principios de Estadística"
   ]
  },
  {
   "cell_type": "markdown",
   "id": "5dcc7167",
   "metadata": {},
   "source": [
    "1. Calcule los valores promedio, la desviación estándar y coeficiente de variación para los 15\n",
    "tiempos medidos en cada una de las posiciones de la segunda fotocelda. Es decir, para los\n",
    "intervalos en que el carrito alcanza las posiciones finales 𝑥=( 40, 50, 60, 70, 80) cm respecto al\n",
    "punto de partida.\n",
    "\n",
    "2. Calcule los valores promedio, la desviación estándar y coeficiente de variación para los primeros\n",
    "10 tiempos medidos en cada una de las posiciones de la segunda fotocelda. Es decir, para los\n",
    "intervalos en que el carrito alcanza las posiciones finales 𝑥 = (40, 50, 60, 70, 80) cm.\n",
    "\n",
    "3. Calcule los valores promedio, la desviación estándar y coeficiente de variación para los primeros\n",
    "5 tiempos medidos en cada una de las posiciones de la segunda fotocelda. Es decir, para los\n",
    "intervalos en que el carrito alcanza las posiciones finales 𝑥 = (40, 50, 60, 70, 80) cm."
   ]
  },
  {
   "cell_type": "code",
   "execution_count": 1,
   "id": "5986c31d",
   "metadata": {
    "pycharm": {
     "name": "#%%\n"
    }
   },
   "outputs": [
    {
     "data": {
      "application/vnd.jupyter.widget-view+json": {
       "model_id": "24d828f93fc544ceba9e336da9bcc104",
       "version_major": 2,
       "version_minor": 0
      },
      "text/plain": [
       "HBox(children=(Label(value='Seleccione Equipo'), IntSlider(value=1, max=7, min=1)))"
      ]
     },
     "metadata": {},
     "output_type": "display_data"
    },
    {
     "data": {
      "application/vnd.jupyter.widget-view+json": {
       "model_id": "6ed07092958849188adee31c96549705",
       "version_major": 2,
       "version_minor": 0
      },
      "text/plain": [
       "HBox(children=(Label(value='Seleccione Número de medidas'), Dropdown(description='Número de medidas:', options…"
      ]
     },
     "metadata": {},
     "output_type": "display_data"
    },
    {
     "data": {
      "application/vnd.jupyter.widget-view+json": {
       "model_id": "e9b164a625b14bbfb203e96626366fb1",
       "version_major": 2,
       "version_minor": 0
      },
      "text/plain": [
       "Output()"
      ]
     },
     "metadata": {},
     "output_type": "display_data"
    }
   ],
   "source": [
    "from IPython.display import display\n",
    "from ipywidgets import interactive\n",
    "import ipywidgets as widgets\n",
    "from IPython.display import display \n",
    "import numpy as np\n",
    "import matplotlib.pyplot as plt\n",
    "import pandas as pd\n",
    "\n",
    "equipoEtiqueta = widgets.Label (value=\"Seleccione Equipo\")\n",
    "equipo = widgets.IntSlider(min=1, max=7) \n",
    "ranEtiqueta = widgets.Label (value=\"Seleccione Número de medidas\")\n",
    "ran = widgets.Dropdown( options=[('15', 15), ('10', 10), ('5', 5)], value=15, description='Número de medidas:',)\n",
    "cajaEquipo = widgets.HBox([equipoEtiqueta, equipo])\n",
    "cajaRan = widgets.HBox([ranEtiqueta, ran])\n",
    "\n",
    "\n",
    "def obetenerDatosTiempo(equipo):\n",
    "    datos = pd.read_excel('semana-3_Datos_experiencias_I-2022.xlsx', sheet_name = equipo, header = 4, nrows = 5)\n",
    "    return datos\n",
    "\n",
    "def calcularPromedio(datos, rango, filas):\n",
    "    listaReacomodada = np.zeros((filas, rango))\n",
    "    promedios = []\n",
    "    for i in range(rango):\n",
    "        for j in range(filas ):\n",
    "            listaReacomodada[j][i] = datos.at[j, i+1]\n",
    "    for data in range(filas):\n",
    "        promedios += [np.average(listaReacomodada[data])]\n",
    "    return promedios\n",
    "\n",
    "def calcularDesviacionEstandar(datos, rango, filas):\n",
    "    listaReacomodada = np.zeros((filas, rango))\n",
    "    desviaciones = []\n",
    "    for i in range(rango):\n",
    "        for j in range(filas ):\n",
    "            listaReacomodada[j][i] = datos.at[j, i+1]\n",
    "    for data in range(filas):\n",
    "        desviaciones += [np.std(listaReacomodada[data])]\n",
    "    return desviaciones\n",
    "\n",
    "def calcularCoeficiente(promedios, desviaciones):\n",
    "    coeficiente = []\n",
    "    for data in range(len(promedios)):\n",
    "        coeficiente += [desviaciones[data]/promedios[data]]\n",
    "    return coeficiente\n",
    "\n",
    "def graficas1(equipo, rango):\n",
    "    datos = obetenerDatosTiempo(equipo - 1)\n",
    "    valoresX = np.arange(1, 6, 1)\n",
    "    valoresYPromedios = calcularPromedio(datos, rango, 5)\n",
    "    fig, ax = plt.subplots (dpi=120)\n",
    "\n",
    "    for fila in range(5):\n",
    "        print(\"Numero de medida: \" + str(valoresX[fila]) + \"   Promedio: \" + str(round(valoresYPromedios[fila], 4)))\n",
    "    ax.set_xlabel('Numero de medida')\n",
    "    ax.set_ylabel('Promedio Tiempo $(s)$')\n",
    "    ax.scatter (valoresX, valoresYPromedios)\n",
    "    ax.set_title('Cálculo de promedios')\n",
    "\n",
    "    plt.grid ()\n",
    "\n",
    "    plt.show()\n",
    "    \n",
    "    valoresYDesviaciones = calcularDesviacionEstandar(datos, rango, 5)\n",
    "    fig1, ax1 = plt.subplots (dpi=120)\n",
    "\n",
    "    for fila in range(5):\n",
    "        print(\"Numero de medida: \" + str(valoresX[fila]) + \"   Desviación estandar: \" + str(round(valoresYDesviaciones[fila], 4)))\n",
    "    ax1.set_xlabel('Numero de medida')\n",
    "    ax1.set_ylabel('Desviación estandar $(s)$')\n",
    "    ax1.scatter (valoresX, valoresYDesviaciones)\n",
    "    ax1.set_title('Desviación estandar')\n",
    "\n",
    "    plt.grid ()\n",
    "\n",
    "    plt.show()\n",
    "\n",
    "    valoresYCoficientes = calcularCoeficiente(valoresYPromedios, valoresYDesviaciones)\n",
    "    fig2, ax2 = plt.subplots (dpi=120)\n",
    "\n",
    "    for fila in range(5):\n",
    "        print(\"Numero de medida: \" + str(valoresX[fila]) + \"   Coficientes: \" + str(round(valoresYCoficientes[fila], 4)))\n",
    "    ax2.set_xlabel('Numero de medida')\n",
    "    ax2.set_ylabel('Coeficiente de variacion')\n",
    "    ax2.scatter (valoresX, valoresYCoficientes)\n",
    "    ax2.set_title('Coeficientes variación')\n",
    "\n",
    "    plt.grid ()\n",
    "\n",
    "    plt.show()\n",
    "\n",
    "\n",
    "    return\n",
    "\n",
    "salida = widgets.interactive_output(graficas1, {'equipo': equipo, 'rango': ran})\n",
    "display(cajaEquipo, cajaRan, salida)\n",
    "\n"
   ]
  },
  {
   "cell_type": "markdown",
   "id": "35770323",
   "metadata": {
    "pycharm": {
     "name": "#%% md\n"
    }
   },
   "source": [
    "4. Realice una tabla donde se muestren los promedios, las desviaciones estándar y el coeficiente\n",
    "de variación calculados en los puntos 1, 2 y 3 (no olvide las unidades). Cada tabla debe estar\n",
    "numerada en la parte superior y debe contener un título que describa la información que\n",
    "contiene, ejemplo: “Tabla 1: datos de velocidad en función del tiempo”."
   ]
  },
  {
   "cell_type": "code",
   "execution_count": 2,
   "id": "d835720f",
   "metadata": {
    "pycharm": {
     "name": "#%%\n"
    }
   },
   "outputs": [
    {
     "data": {
      "application/vnd.jupyter.widget-view+json": {
       "model_id": "cbe035178f984f6ab512a56e167753d3",
       "version_major": 2,
       "version_minor": 0
      },
      "text/plain": [
       "HBox(children=(Label(value='Seleccione Equipo'), IntSlider(value=1, max=7, min=1)))"
      ]
     },
     "metadata": {},
     "output_type": "display_data"
    },
    {
     "data": {
      "application/vnd.jupyter.widget-view+json": {
       "model_id": "aec15feb61284c4086465ae62ff7ca67",
       "version_major": 2,
       "version_minor": 0
      },
      "text/plain": [
       "Output()"
      ]
     },
     "metadata": {},
     "output_type": "display_data"
    }
   ],
   "source": [
    "encabezado = ['Distancia X $(cm)$', 'Promedio 15 datos $(s)$', 'Desviación Estandar 15 datos $(s)$', 'Coeficiente de Variación 15 datos', 'Promedio 10 datos $(s)$', 'Desviación Estandar 10 datos $(s)$', 'Coeficiente de Variación 10 datos',  'Promedio 5 datos $(s)$', 'Desviación Estandar 5 datos $(s)$', 'Coeficiente de Variación 5 datos']\n",
    "distancias = ['40', '50', '60', '70', '80']\n",
    "def tablas4(equipo):\n",
    "    datos = obetenerDatosTiempo(equipo - 1)\n",
    "    promedio15 = calcularPromedio(datos, 15, 5)\n",
    "    desviacion15 = calcularDesviacionEstandar(datos, 15, 5)\n",
    "    coeficiente15 = calcularCoeficiente(promedio15, desviacion15)\n",
    "    promedio10 = calcularPromedio(datos, 10, 5)\n",
    "    desviacion10 = calcularDesviacionEstandar(datos, 10, 5)\n",
    "    coeficiente10 = calcularCoeficiente(promedio10, desviacion10)\n",
    "    promedio5 = calcularPromedio(datos, 5, 5)\n",
    "    desviacion5 = calcularDesviacionEstandar(datos, 5, 5)\n",
    "    coeficiente5 = calcularCoeficiente(promedio5, desviacion5)\n",
    "\n",
    "    datosTabla = []\n",
    "    listaIterativa = []\n",
    "    \n",
    "    for j in range(5):\n",
    "        listaIterativa = [distancias[j], str(round(promedio15[j], 3)), str( round(desviacion15[j], 3)), str(round(coeficiente15[j], 3)), str(round(promedio10[j] , 3)) ,str(round(desviacion10[j], 3)), str(round(coeficiente10[j], 3)), str(round(promedio5[j], 3)) ,str(round(desviacion5[j], 3)), str(round(coeficiente5[j], 3))]\n",
    "        datosTabla += [listaIterativa] \n",
    "    \n",
    "    fig, ax = plt.subplots(figsize = (30, 10), dpi=250)\n",
    "    ax.axis('tight')\n",
    "    ax.axis('off')\n",
    "    ax.table(cellText = datosTabla, colLabels=encabezado, loc=\"center\")\n",
    "\n",
    "    plt.show()\n",
    "\n",
    "salida = widgets.interactive_output(tablas4, {'equipo': equipo})\n",
    "display(cajaEquipo, salida)"
   ]
  },
  {
   "cell_type": "markdown",
   "id": "c268dd6b",
   "metadata": {},
   "source": [
    "5. Calcule los valores promedios de las velocidades medidas para cada posición de la fotocelda.\n",
    "Obtenga, además el valor de la desviación estándar y el coeficiente de variación en cada\n",
    "conjunto de valores de la velocidad."
   ]
  },
  {
   "cell_type": "code",
   "execution_count": 3,
   "id": "282c48a0",
   "metadata": {},
   "outputs": [
    {
     "data": {
      "application/vnd.jupyter.widget-view+json": {
       "model_id": "cbe035178f984f6ab512a56e167753d3",
       "version_major": 2,
       "version_minor": 0
      },
      "text/plain": [
       "HBox(children=(Label(value='Seleccione Equipo'), IntSlider(value=1, max=7, min=1)))"
      ]
     },
     "metadata": {},
     "output_type": "display_data"
    },
    {
     "data": {
      "application/vnd.jupyter.widget-view+json": {
       "model_id": "c35d993dfc014b94bd5a59b5a0d670bc",
       "version_major": 2,
       "version_minor": 0
      },
      "text/plain": [
       "Output()"
      ]
     },
     "metadata": {},
     "output_type": "display_data"
    }
   ],
   "source": [
    "def obetenerDatosVelocidad(equipo):\n",
    "    datos = pd.read_excel('semana-3_Datos_experiencias_I-2022.xlsx', sheet_name = equipo, header = 18, nrows = 8, skiprows = [19])\n",
    "    return datos\n",
    "\n",
    "\n",
    "def graficas2(equipo, rango=3):\n",
    "    datos = obetenerDatosVelocidad(equipo - 1)\n",
    "    valoresX = np.arange(1, 7, 1)\n",
    "    valoresYPromedios = calcularPromedio(datos, rango, 6)\n",
    "    fig, ax = plt.subplots (dpi=120)\n",
    "\n",
    "    for fila in range(6):\n",
    "        print(\"Numero de medida: \" + str(valoresX[fila]) + \"   Promedio: \" + str(round(valoresYPromedios[fila], 4)))\n",
    "    ax.set_xlabel('Numero de medida')\n",
    "    ax.set_ylabel('Promedio Velocidad $(m/s)$')\n",
    "    ax.scatter (valoresX, valoresYPromedios)\n",
    "    ax.set_title('Cálculo de promedios')\n",
    "\n",
    "    plt.grid ()\n",
    "\n",
    "    plt.show()\n",
    "    \n",
    "    valoresYDesviaciones = calcularDesviacionEstandar(datos, rango, 6)\n",
    "    fig1, ax1 = plt.subplots (dpi=120)\n",
    "\n",
    "    for fila in range(6):\n",
    "        print(\"Numero de medida: \" + str(valoresX[fila]) + \"   Desviación estandar: \" + str(round(valoresYDesviaciones[fila], 4)))\n",
    "    ax1.set_xlabel('Numero de medida')\n",
    "    ax1.set_ylabel('Desviación estandar $(m/s)$')\n",
    "    ax1.scatter (valoresX, valoresYDesviaciones)\n",
    "    ax1.set_title('Desviación estandar')\n",
    "\n",
    "    plt.grid ()\n",
    "\n",
    "    plt.show()\n",
    "\n",
    "    valoresYCoficientes = calcularCoeficiente(valoresYPromedios, valoresYDesviaciones)\n",
    "    fig2, ax2 = plt.subplots (dpi=120)\n",
    "\n",
    "    for fila in range(6):\n",
    "        print(\"Numero de medida: \" + str(valoresX[fila]) + \"   Coficientes: \" + str(round(valoresYCoficientes[fila], 4)))\n",
    "    ax2.set_xlabel('Numero de medida')\n",
    "    ax2.set_ylabel('Coeficiente de variacion')\n",
    "    ax2.scatter (valoresX, valoresYCoficientes)\n",
    "    ax2.set_title('Coeficientes variación')\n",
    "\n",
    "    plt.grid ()\n",
    "\n",
    "    plt.show()\n",
    "\n",
    "\n",
    "    return\n",
    "\n",
    "salida = widgets.interactive_output(graficas2, {'equipo': equipo})\n",
    "display(cajaEquipo, salida)"
   ]
  },
  {
   "cell_type": "markdown",
   "id": "2ebc2e88",
   "metadata": {},
   "source": [
    "6. Realice una tabla para los promedios de velocidad, desviaciones estándar y coeficientes de\n",
    "variación calculados en el punto anterior (no olvide las unidades). Debe especificar la posición\n",
    "a la que corresponde cada valor de velocidad promedio. "
   ]
  },
  {
   "cell_type": "code",
   "execution_count": 4,
   "id": "0de11526",
   "metadata": {},
   "outputs": [
    {
     "data": {
      "application/vnd.jupyter.widget-view+json": {
       "model_id": "cbe035178f984f6ab512a56e167753d3",
       "version_major": 2,
       "version_minor": 0
      },
      "text/plain": [
       "HBox(children=(Label(value='Seleccione Equipo'), IntSlider(value=1, max=7, min=1)))"
      ]
     },
     "metadata": {},
     "output_type": "display_data"
    },
    {
     "data": {
      "application/vnd.jupyter.widget-view+json": {
       "model_id": "3cd89cd590694dfba65dc42aeda5af7c",
       "version_major": 2,
       "version_minor": 0
      },
      "text/plain": [
       "Output()"
      ]
     },
     "metadata": {},
     "output_type": "display_data"
    }
   ],
   "source": [
    "encabezado = ['Distancia X $(cm)$', 'Promedio velocidades $(m/s)$', 'Desviación Estandar  $(m/s)$', 'Coeficiente de Variación']\n",
    "distancias = ['30', '40', '50', '60', '70', '80']\n",
    "def tablas6(equipo):\n",
    "    datos = obetenerDatosVelocidad(equipo - 1)\n",
    "    promedio = calcularPromedio(datos, 3, 6)\n",
    "    desviacion = calcularDesviacionEstandar(datos, 3, 6)\n",
    "    coeficiente = calcularCoeficiente(promedio, desviacion)\n",
    "\n",
    "    datosTabla = []\n",
    "    listaIterativa = []\n",
    "    \n",
    "    for j in range(6):\n",
    "        listaIterativa = [distancias[j], str(round(promedio[j], 3)), str( round(desviacion[j], 3)), str(round(coeficiente[j], 3))]\n",
    "        datosTabla += [listaIterativa] \n",
    "    \n",
    "    fig, ax = plt.subplots(figsize = (30, 10), dpi=250)\n",
    "    ax.axis('tight')\n",
    "    ax.axis('off')\n",
    "    ax.table(cellText = datosTabla, colLabels=encabezado, loc=\"center\")\n",
    "\n",
    "    plt.show()\n",
    "\n",
    "salida = widgets.interactive_output(tablas6, {'equipo': equipo})\n",
    "display(cajaEquipo, salida)"
   ]
  },
  {
   "cell_type": "markdown",
   "id": "446d1e20",
   "metadata": {},
   "source": [
    "7. Calcule los valores promedios de las aceleraciones medidas para cada posición de la fotocelda.\n",
    "Obtenga, además el valor de la desviación estándar y el coeficiente de variación en cada\n",
    "conjunto de valores de aceleración."
   ]
  },
  {
   "cell_type": "code",
   "execution_count": 5,
   "id": "d46f9fe7",
   "metadata": {},
   "outputs": [
    {
     "data": {
      "application/vnd.jupyter.widget-view+json": {
       "model_id": "cbe035178f984f6ab512a56e167753d3",
       "version_major": 2,
       "version_minor": 0
      },
      "text/plain": [
       "HBox(children=(Label(value='Seleccione Equipo'), IntSlider(value=1, max=7, min=1)))"
      ]
     },
     "metadata": {},
     "output_type": "display_data"
    },
    {
     "data": {
      "application/vnd.jupyter.widget-view+json": {
       "model_id": "95fb04dc9723499a8ff20c08dc055a77",
       "version_major": 2,
       "version_minor": 0
      },
      "text/plain": [
       "Output()"
      ]
     },
     "metadata": {},
     "output_type": "display_data"
    }
   ],
   "source": [
    "def obetenerDatosAceleracion(equipo):\n",
    "    datos = pd.read_excel('semana-3_Datos_experiencias_I-2022.xlsx', sheet_name = equipo, header = 18, nrows = 3, skiprows = [19], usecols = [6, 7, 8, 9])\n",
    "    return datos\n",
    "\n",
    "def calcularPromedioA(datos, rango, filas):\n",
    "    listaReacomodada = np.zeros((filas, rango))\n",
    "    promedios = []\n",
    "    for i in range(rango):\n",
    "        for j in range(filas ):\n",
    "            listaReacomodada[j][i] = datos.at[j, str(i+1.1)]\n",
    "    for data in range(filas):\n",
    "        promedios += [np.average(listaReacomodada[data])]\n",
    "    return promedios\n",
    "\n",
    "def calcularDesviacionEstandarA(datos, rango, filas):\n",
    "    listaReacomodada = np.zeros((filas, rango))\n",
    "    desviaciones = []\n",
    "    for i in range(rango):\n",
    "        for j in range(filas ):\n",
    "            listaReacomodada[j][i] = datos.at[j, str(i+1.1)]\n",
    "    for data in range(filas):\n",
    "        desviaciones += [np.std(listaReacomodada[data])]\n",
    "    return desviaciones\n",
    "\n",
    "def graficas3(equipo, rango=3):\n",
    "    datos = obetenerDatosAceleracion(equipo - 1)\n",
    "    valoresX = np.arange(1, 4, 1)\n",
    "    valoresYPromedios = calcularPromedioA(datos, rango, 3)\n",
    "    fig, ax = plt.subplots (dpi=120)\n",
    "\n",
    "    for fila in range(3):\n",
    "        print(\"Numero de medida: \" + str(valoresX[fila]) + \"   Promedio: \" + str(round(valoresYPromedios[fila], 4)))\n",
    "    ax.set_xlabel('Numero de medida')\n",
    "    ax.set_ylabel('Promedio Aceleración $(m/s^2)$')\n",
    "    ax.scatter (valoresX, valoresYPromedios)\n",
    "    ax.set_title('Cálculo de promedios')\n",
    "\n",
    "    plt.grid ()\n",
    "\n",
    "    plt.show()\n",
    "    \n",
    "    valoresYDesviaciones = calcularDesviacionEstandarA(datos, rango, 3)\n",
    "    fig1, ax1 = plt.subplots (dpi=120)\n",
    "\n",
    "    for fila in range(3):\n",
    "        print(\"Numero de medida: \" + str(valoresX[fila]) + \"   Desviación estandar: \" + str(round(valoresYDesviaciones[fila], 4)))\n",
    "    ax1.set_xlabel('Numero de medida')\n",
    "    ax1.set_ylabel('Desviación estandar $(m/s^2)$')\n",
    "    ax1.scatter (valoresX, valoresYDesviaciones)\n",
    "    ax1.set_title('Desviación estandar')\n",
    "\n",
    "    plt.grid ()\n",
    "\n",
    "    plt.show()\n",
    "\n",
    "    valoresYCoficientes = calcularCoeficiente(valoresYPromedios, valoresYDesviaciones)\n",
    "    fig2, ax2 = plt.subplots (dpi=120)\n",
    "\n",
    "    for fila in range(3):\n",
    "        print(\"Numero de medida: \" + str(valoresX[fila]) + \"   Coficientes: \" + str(round(valoresYCoficientes[fila], 4)))\n",
    "    ax2.set_xlabel('Numero de medida')\n",
    "    ax2.set_ylabel('Coeficiente de variacion')\n",
    "    ax2.scatter (valoresX, valoresYCoficientes)\n",
    "    ax2.set_title('Coeficientes variación')\n",
    "\n",
    "    plt.grid ()\n",
    "\n",
    "    plt.show()\n",
    "\n",
    "\n",
    "    return\n",
    "\n",
    "salida = widgets.interactive_output(graficas3, {'equipo': equipo})\n",
    "display(cajaEquipo, salida)\n",
    "\n"
   ]
  },
  {
   "cell_type": "markdown",
   "id": "09a9f3a9",
   "metadata": {},
   "source": [
    "8. Realice una tabla para los promedios de aceleración, desviaciones estándar y coeficientes de\n",
    "variación calculados en el punto anterior (no olvide las unidades). Debe especificar la posición\n",
    "a la que corresponde cada valor de aceleración promedio."
   ]
  },
  {
   "cell_type": "code",
   "execution_count": 6,
   "id": "16f61919",
   "metadata": {},
   "outputs": [
    {
     "data": {
      "application/vnd.jupyter.widget-view+json": {
       "model_id": "cbe035178f984f6ab512a56e167753d3",
       "version_major": 2,
       "version_minor": 0
      },
      "text/plain": [
       "HBox(children=(Label(value='Seleccione Equipo'), IntSlider(value=1, max=7, min=1)))"
      ]
     },
     "metadata": {},
     "output_type": "display_data"
    },
    {
     "data": {
      "application/vnd.jupyter.widget-view+json": {
       "model_id": "1b01bb44cf7f41a7a4f47049cf7ba18d",
       "version_major": 2,
       "version_minor": 0
      },
      "text/plain": [
       "Output()"
      ]
     },
     "metadata": {},
     "output_type": "display_data"
    }
   ],
   "source": [
    "encabezado = ['Distancia X $(cm)$', 'Promedio Aceleración $(m/s^2)$', 'Desviación Estandar  $(m/s^2)$', 'Coeficiente de Variación']\n",
    "distancias = [ '40', '50', '70']\n",
    "def tablas8(equipo):\n",
    "    datos = obetenerDatosAceleracion(equipo - 1)\n",
    "    promedio = calcularPromedioA(datos, 3, 3)\n",
    "    desviacion = calcularDesviacionEstandarA(datos, 3, 3)\n",
    "    coeficiente = calcularCoeficiente(promedio, desviacion)\n",
    "\n",
    "    datosTabla = []\n",
    "    listaIterativa = []\n",
    "    \n",
    "    for j in range(3):\n",
    "        listaIterativa = [distancias[j], str(round(promedio[j], 3)), str( round(desviacion[j], 3)), str(round(coeficiente[j], 3))]\n",
    "        datosTabla += [listaIterativa] \n",
    "    \n",
    "    fig, ax = plt.subplots(figsize = (30, 10), dpi=250)\n",
    "    ax.axis('tight')\n",
    "    ax.axis('off')\n",
    "    ax.table(cellText = datosTabla, colLabels=encabezado, loc=\"center\")\n",
    "\n",
    "    plt.show()\n",
    "\n",
    "salida = widgets.interactive_output(tablas8, {'equipo': equipo})\n",
    "display(cajaEquipo, salida)"
   ]
  },
  {
   "cell_type": "markdown",
   "id": "1a0c4c7c",
   "metadata": {},
   "source": [
    "9. La ecuación 1 corresponde a una de las ecuaciones de cinemática donde 𝑎 representa la\n",
    "magnitud de la aceleración, 𝑥𝑜 es la posición inicial (justo donde se coloca la primera fotocelda),\n",
    "𝑥 representa la posición final alcanzada por el carrito (posición de la segunda fotocelda), 𝑡 el\n",
    "tiempo promedio alcanzado por el mismo y 𝑣̅0 la velocidad inicial promedio del carrito.\n",
    "\n",
    "\n",
    "$X_0 + \\overline{V_0} \\overline{t} + \\dfrac{a \\overline{t}^2}{2}$\n",
    "\n",
    "\n",
    "Utilizando al ecuación 1 calcule las aceleraciones para las diferentes posiciones finales 𝑥 =\n",
    "(40, 50, 60, 70, 80) cm y reporte los resultados en una tabla. Utilice el tiempo promedio\n",
    "calculado para el conjunto de las 15 mediciones.\n",
    "\n",
    "\n",
    "10. Calcule el promedio de las aceleraciones calculadas en el paso 9."
   ]
  },
  {
   "cell_type": "code",
   "execution_count": 7,
   "id": "fe68c551",
   "metadata": {},
   "outputs": [
    {
     "data": {
      "application/vnd.jupyter.widget-view+json": {
       "model_id": "cbe035178f984f6ab512a56e167753d3",
       "version_major": 2,
       "version_minor": 0
      },
      "text/plain": [
       "HBox(children=(Label(value='Seleccione Equipo'), IntSlider(value=1, max=7, min=1)))"
      ]
     },
     "metadata": {},
     "output_type": "display_data"
    },
    {
     "data": {
      "application/vnd.jupyter.widget-view+json": {
       "model_id": "7d7f651fb96747d7bf94ac0898acd898",
       "version_major": 2,
       "version_minor": 0
      },
      "text/plain": [
       "Output()"
      ]
     },
     "metadata": {},
     "output_type": "display_data"
    }
   ],
   "source": [
    "def ecuacionAceleracion(x0, v, t):\n",
    "    x = 30\n",
    "    resultado = x - x0 - v * t\n",
    "    resultado = resultado * 2 / t**2\n",
    "    return resultado\n",
    "\n",
    "def tablas9(equipo):\n",
    "    aceleraciones = []\n",
    "    datosX = [40, 50, 60, 70, 80]\n",
    "    datosT = obetenerDatosTiempo(equipo - 1)\n",
    "    datosV = obetenerDatosVelocidad(equipo - 1)\n",
    "    tiempos = calcularPromedio(datosT, 15, 5)\n",
    "    velocidades = calcularPromedio(datosV, 3, 5)\n",
    "    encabezado = ['X $(cm)$', 'Aceleración $(m/s^2)$']\n",
    "    \n",
    "    dataCelda = []\n",
    "    for i in range(5):\n",
    "        aceleracion = ecuacionAceleracion(datosX[i], velocidades[i], tiempos[i])\n",
    "        aceleraciones += [aceleracion]\n",
    "        dataCelda += [[str(datosX[i]), str(round(aceleracion, 3))]]\n",
    "        \n",
    "    fig, ax = plt.subplots(figsize = (1, 2), dpi=250)\n",
    "    ax.axis('tight')\n",
    "    ax.axis('off')\n",
    "    ax.table(cellText = dataCelda, colLabels=encabezado, loc=\"center\")\n",
    "    \n",
    "    print(round(np.average(aceleraciones), 3))\n",
    "    \n",
    "    plt.show()\n",
    "    \n",
    "salida = widgets.interactive_output(tablas9, {'equipo': equipo})\n",
    "display(cajaEquipo, salida)\n",
    "    "
   ]
  },
  {
   "cell_type": "code",
   "execution_count": null,
   "id": "b5f4a23d",
   "metadata": {},
   "outputs": [],
   "source": []
  }
 ],
 "metadata": {
  "kernelspec": {
   "display_name": "Python 3",
   "language": "python",
   "name": "python3"
  },
  "language_info": {
   "codemirror_mode": {
    "name": "ipython",
    "version": 3
   },
   "file_extension": ".py",
   "mimetype": "text/x-python",
   "name": "python",
   "nbconvert_exporter": "python",
   "pygments_lexer": "ipython3",
   "version": "3.8.8"
  }
 },
 "nbformat": 4,
 "nbformat_minor": 5
}