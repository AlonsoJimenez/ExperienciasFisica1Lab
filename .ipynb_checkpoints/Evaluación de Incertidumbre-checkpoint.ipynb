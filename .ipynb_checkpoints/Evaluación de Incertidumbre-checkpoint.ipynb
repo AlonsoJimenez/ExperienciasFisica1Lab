{
 "cells": [
  {
   "cell_type": "markdown",
   "id": "5858b67e",
   "metadata": {},
   "source": [
    "# Experiencia 2: Evaluación de la incertidumbre"
   ]
  },
  {
   "cell_type": "markdown",
   "id": "3dfd61e6",
   "metadata": {},
   "source": [
    "## 3.1 Incertidumbre estándar para la masa y la posición "
   ]
  },
  {
   "cell_type": "markdown",
   "id": "556419e8",
   "metadata": {},
   "source": [
    "1. Recupere la medición directa de la masa del porta-masas con una masa adicional (𝑚2) y\n",
    "obtenga la incertidumbre estándar asociada a esta medición. Como no hubo repeticiones en la\n",
    "medición para esta magnitud la incertidumbre estándar solo tiene componente asociada a\n",
    "incertidumbre Tipo B, la cual se relaciona con la resolución del instrumento de medición. \n",
    "\n",
    "$U_B = \\dfrac{\\Delta A_m}{2 \\cdot \\sqrt{3}}$\n",
    "\n",
    "2. Reporte de manera adecuada el resultado de la medición de la masa del porta-masas con una\n",
    "masa adicional (𝑚2)."
   ]
  },
  {
   "cell_type": "code",
   "execution_count": 2,
   "id": "2f360f4c",
   "metadata": {},
   "outputs": [],
   "source": [
    "def medicionMasas():\n",
    "    return\n",
    "def resoluciones():\n",
    "    return\n",
    "def obtenerIncertidumbre():\n",
    "    return"
   ]
  },
  {
   "cell_type": "markdown",
   "id": "1d7ae764",
   "metadata": {},
   "source": [
    "3. Obtenga la incertidumbre estándar asociada a cada medición de la posición, como no hubo\n",
    "repeticiones en la medición para esta magnitud la incertidumbre estándar solo posee\n",
    "componente de incertidumbre Tipo B, la cual se relaciona con el instrumento de medición.\n",
    "\n",
    "$U_B = \\dfrac{\\Delta A_x}{2 \\cdot \\sqrt{3}}$\n",
    "\n",
    "4. Reporte adecuadamente el resultado de cada medición de la posición"
   ]
  },
  {
   "cell_type": "code",
   "execution_count": null,
   "id": "c681f6b1",
   "metadata": {},
   "outputs": [],
   "source": [
    "def medicionPosicion():\n",
    "    return\n",
    "def resoluciones():\n",
    "    return\n",
    "def obtenerIncertidumbre():\n",
    "    return"
   ]
  },
  {
   "cell_type": "markdown",
   "id": "ef1265a9",
   "metadata": {},
   "source": [
    "## 3.2 Incertidumbre estándar para el tiempo de desplazamiento, la velocidad y la aceleración\n"
   ]
  },
  {
   "cell_type": "markdown",
   "id": "cd77790d",
   "metadata": {},
   "source": [
    "5. A partir de las 15 mediciones del tiempo que tardó el carrito en ir desde la posición inicial a otras\n",
    "posiciones de la segunda fotocelda, calcule la incertidumbre correspondiente a esta medición.\n",
    "Inicialmente obtenga la incertidumbre estándar Tipo A para el primer conjunto de valores del\n",
    "tiempo:\n",
    "\n",
    "$U_A=\\dfrac{S(t)}{2 \\sqrt{n}}$\n",
    "\n",
    "6. Seguidamente, calcule la incertidumbre estándar Tipo B para el tiempo, considerando que el\n",
    "instrumento era digital:\n",
    "\n",
    "$U_B=\\dfrac{\\Delta A_t}{2 \\cdot \\sqrt{3}}$\n",
    "\n",
    "7. Finalmente, calcule la incertidumbre estándar de la medición del tiempo:\n",
    "\n",
    "$u(t)=\\sqrt{U_A^2 + U_B^2}$\n",
    "\n",
    "8. Presente adecuadamente el resultado de la medición del tiempo promedio para las 15 medidas\n",
    "tomadas en el primer desplazamiento. Repita para todos los 15 valores de tiempo promedio\n",
    "que midió en las otras posiciones.\n",
    "\n",
    "9. Obtenga el valor de la incertidumbre estándar para cada valor promedio de la velocidad.\n",
    "Reporte adecuadamente el resultado de la medición de los valores de velocidad promedio."
   ]
  },
  {
   "cell_type": "code",
   "execution_count": null,
   "id": "e76dfebc",
   "metadata": {},
   "outputs": [],
   "source": []
  },
  {
   "cell_type": "markdown",
   "id": "71b68afd",
   "metadata": {},
   "source": [
    "10. Obtenga un único valor promedio de todos los valores de aceleración medidos (utilice como\n",
    "muestra todos los valores medidos en la posición de 40 cm, 50 cm, y 70 cm).\n",
    "\n",
    "11. Calcule la incertidumbre estándar del valor de aceleración promedio calculado en el paso\n",
    "anterior y reporte adecuadamente la medición.\n",
    "\n",
    "12. Exprese adecuadamente el resultado del valor promedio de la aceleración determinado en el\n",
    "paso anterior, pero usando su incertidumbre estándar relativa. Esta incertidumbre se obtiene\n",
    "al dividir el valor de la incertidumbre estándar, entre el valor promedio de la aceleración:\n",
    "\n",
    "$𝑢_{𝑟𝑒𝑙,𝑎}= \\left|\\dfrac{U_a}{\\overline{a}}\\right| \\cdot 100%$\n"
   ]
  },
  {
   "cell_type": "code",
   "execution_count": null,
   "id": "c94949d8",
   "metadata": {},
   "outputs": [],
   "source": []
  },
  {
   "cell_type": "markdown",
   "id": "a57c873b",
   "metadata": {},
   "source": [
    "## 3.3 Incertidumbre estándar combinada para la aceleración"
   ]
  },
  {
   "cell_type": "markdown",
   "id": "1f12eba0",
   "metadata": {},
   "source": [
    "13. Calcule el valor de la aceleración promedio para la posición final de 50 cm de la fotocelda a partir\n",
    "de los promedios de velocidad final, velocidad inicial y el tiempo. Utilice la siguiente relación:\n",
    "\n",
    "$\\overline{a}=\\dfrac{\\overline{v}-\\overline{v_o}}{\\overline{t}}$\n",
    "\n",
    "donde 𝑎 representa la aceleración promedio, 𝑡 representa el tiempo promedio que tardó el\n",
    "carrito en cambiar su velocidad desde un valor inicial 𝑣𝑜 (en la posición de 30 cm) hasta el valor\n",
    "final 𝑣 (en la posición de 50 cm)."
   ]
  },
  {
   "cell_type": "code",
   "execution_count": null,
   "id": "e220a963",
   "metadata": {},
   "outputs": [],
   "source": []
  },
  {
   "cell_type": "markdown",
   "id": "6b4f64bf",
   "metadata": {},
   "source": [
    "14. Obtenga la incertidumbre estándar combinada de la aceleración a partir de la ley de la\n",
    "propagación de la incertidumbre:\n",
    "\n",
    "$u_c(a)=\\sqrt{(u(v) \\dfrac{\\delta a}{\\delta v})^2+(u(v_o) \\dfrac{\\delta a}{\\delta V_o})^2+(u(t) \\dfrac{\\delta a}{\\delta t})^2}$\n",
    "\n",
    "$=\\sqrt{(\\dfrac{1}{\\overline{t}})^2u^2(v)+(\\dfrac{-1}{\\overline{t}})u^2(v_o)+(\\dfrac{\\overline{v_o}-\\overline{v}}{\\overline{t^2}})^2u^2(t)}$\n",
    "\n",
    "En la ecuación anterior 𝑢(𝑣), 𝑢(𝑣𝑜\n",
    ") y 𝑢(𝑡) representan la incertidumbre estándar de la\n",
    "velocidad final, velocidad inicial y tiempo de recorrido asociados a los valores utilizados para el\n",
    "cálculo de la ecuación 7.\n",
    "15. Exprese adecuadamente el resultado de la aceleración de la forma 𝑎 = 𝑎̅ ± 𝑢𝑐(𝑎).\n",
    "16. Utilice la ecuación 6 para calcular la incertidumbre como un porcentaje del valor promedio y\n",
    "exprese adecuadamente el resultado de la aceleración como incertidumbre estándar relativa. "
   ]
  },
  {
   "cell_type": "code",
   "execution_count": null,
   "id": "f06077ed",
   "metadata": {},
   "outputs": [],
   "source": []
  }
 ],
 "metadata": {
  "kernelspec": {
   "display_name": "Python 3",
   "language": "python",
   "name": "python3"
  },
  "language_info": {
   "codemirror_mode": {
    "name": "ipython",
    "version": 3
   },
   "file_extension": ".py",
   "mimetype": "text/x-python",
   "name": "python",
   "nbconvert_exporter": "python",
   "pygments_lexer": "ipython3",
   "version": "3.8.8"
  }
 },
 "nbformat": 4,
 "nbformat_minor": 5
}
