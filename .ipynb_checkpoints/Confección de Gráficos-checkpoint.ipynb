{
 "cells": [
  {
   "cell_type": "code",
   "execution_count": 5,
   "metadata": {},
   "outputs": [
    {
     "data": {
      "application/vnd.jupyter.widget-view+json": {
       "model_id": "4873032b7f214392840a94a96db5f26e",
       "version_major": 2,
       "version_minor": 0
      },
      "text/plain": [
       "HBox(children=(Label(value='Seleccione Equipo'), IntSlider(value=1, max=7, min=1)))"
      ]
     },
     "metadata": {},
     "output_type": "display_data"
    },
    {
     "data": {
      "application/vnd.jupyter.widget-view+json": {
       "model_id": "17b347e594124a38917492f39fdf8516",
       "version_major": 2,
       "version_minor": 0
      },
      "text/plain": [
       "Output()"
      ]
     },
     "metadata": {},
     "output_type": "display_data"
    }
   ],
   "source": [
    "from IPython.display import display\n",
    "from ipywidgets import interactive\n",
    "import ipywidgets as widgets\n",
    "from IPython.display import display\n",
    "import numpy as np\n",
    "import matplotlib.pyplot as plt\n",
    "import pandas as pd\n",
    "\n",
    "equipoEtiqueta = widgets.Label (value=\"Seleccione Equipo\")\n",
    "equipo = widgets.IntSlider(min=1, max=7)\n",
    "cajaEquipo = widgets.HBox([equipoEtiqueta, equipo])\n",
    "\n",
    "\n",
    "def obetenerDatosTiempo(equipo):\n",
    "    datos = pd.read_excel('semana-3_Datos_experiencias_I-2022.xlsx', sheet_name = equipo, header = 4, nrows = 5)\n",
    "    return datos\n",
    "\n",
    "def calcularPromedio(datos, rango, filas):\n",
    "    listaReacomodada = np.zeros((filas, rango))\n",
    "    promedios = [0]\n",
    "    for i in range(rango):\n",
    "        for j in range(filas ):\n",
    "            listaReacomodada[j][i] = datos.at[j, i+1]\n",
    "    for data in range(filas):\n",
    "        if(data == 0):\n",
    "            promedios += [np.average(listaReacomodada[data])]\n",
    "        else:\n",
    "            promedios += [promedios[data - 1] + np.average(listaReacomodada[data])]\n",
    "    return promedios\n",
    "\n",
    "\n",
    "def graficas1(equipo):\n",
    "    datos = obetenerDatosTiempo(equipo - 1)\n",
    "    valoresX = [30, 40, 50, 60, 70, 80]\n",
    "    valoresYPromedios = calcularPromedio(datos, 15, 5)\n",
    "    fig, ax = plt.subplots (dpi=120)\n",
    "\n",
    "    for fila in range(5):\n",
    "        print(\"Numero de medida: \" + str(valoresX[fila]) + \"   Promedio: \" + str(round(valoresYPromedios[fila], 4)))\n",
    "    ax.set_xlabel('Numero de medida')\n",
    "    ax.set_ylabel('Promedio Tiempo $(s)$')\n",
    "    ax.scatter (valoresX, valoresYPromedios)\n",
    "    ax.set_title('Cálculo de promedios')\n",
    "\n",
    "    plt.grid ()\n",
    "\n",
    "    plt.show()\n",
    "\n",
    "\n",
    "\n",
    "    return\n",
    "\n",
    "salida = widgets.interactive_output(graficas1, {'equipo': equipo})\n",
    "display(cajaEquipo, salida)"
   ]
  },
  {
   "cell_type": "code",
   "execution_count": null,
   "metadata": {
    "pycharm": {
     "name": "#%%\n"
    }
   },
   "outputs": [],
   "source": []
  }
 ],
 "metadata": {
  "kernelspec": {
   "display_name": "Python 3",
   "language": "python",
   "name": "python3"
  },
  "language_info": {
   "codemirror_mode": {
    "name": "ipython",
    "version": 3
   },
   "file_extension": ".py",
   "mimetype": "text/x-python",
   "name": "python",
   "nbconvert_exporter": "python",
   "pygments_lexer": "ipython3",
   "version": "3.8.8"
  }
 },
 "nbformat": 4,
 "nbformat_minor": 1
}
