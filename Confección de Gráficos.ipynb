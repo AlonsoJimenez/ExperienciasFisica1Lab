{
 "cells": [
  {
   "cell_type": "markdown",
   "metadata": {},
   "source": [
    "# Confección de gráficos "
   ]
  },
  {
   "cell_type": "markdown",
   "metadata": {},
   "source": [
    "## 3.1 Variación de la posición en función del tiempo"
   ]
  },
  {
   "cell_type": "markdown",
   "metadata": {},
   "source": [
    "1. Confeccione un gráfico de dispersión de la posición del carrito en función del tiempo. Utilice\n",
    "Microsoft Excel.\n",
    "\n",
    "2. Rotule correctamente el gráfico (título, ejes y unidades) y agregue: la curva de mejor ajuste\n",
    "(polinomio de grado 2), su ecuación empírica y el coeficiente de determinación (calculados por\n",
    "Microsoft Excel).\n",
    "\n",
    "3. Escriba la ecuación teórica de posición del carrito en función del tiempo para un movimiento\n",
    "unidimensional MRUA, obtenida a partir de cinemática. Recuerde que las ecuaciones deben ser\n",
    "escritas utilizando un editor de ecuaciones como el de Microsoft Word.\n",
    "\n",
    "$ x = X_0 + V_0 t + \\dfrac{a t^2}{2}$\n",
    "\n",
    "4. Compare la ecuación empírica (obtenida en el paso 2 al realizar el ajuste de la gráfica usando\n",
    "Excel) con la ecuación teórica (escrita en el paso 3) y obtenga la magnitud de la posición inicial,\n",
    "velocidad inicial y aceleración del carrito. Tenga en consideración que los valores numéricos del\n",
    "modelo empírico corresponden a los parámetros del modelo teórico.\n",
    "\n",
    "5. Analice el coeficiente de determinación de la gráfica de posición en función del tiempo y\n",
    "explique la principal conclusión que se puede obtener de ese resultado.\n"
   ]
  },
  {
   "cell_type": "code",
   "execution_count": 24,
   "metadata": {},
   "outputs": [
    {
     "data": {
      "application/vnd.jupyter.widget-view+json": {
       "model_id": "d4896317563c42dfb8cf6e5edf450854",
       "version_major": 2,
       "version_minor": 0
      },
      "text/plain": [
       "HBox(children=(Label(value='Seleccione Equipo'), IntSlider(value=1, max=7, min=1)))"
      ]
     },
     "metadata": {},
     "output_type": "display_data"
    },
    {
     "data": {
      "application/vnd.jupyter.widget-view+json": {
       "model_id": "d0cce3bac7324f07955665ef31d1b343",
       "version_major": 2,
       "version_minor": 0
      },
      "text/plain": [
       "Output()"
      ]
     },
     "metadata": {},
     "output_type": "display_data"
    }
   ],
   "source": [
    "from IPython.display import display\n",
    "from ipywidgets import interactive\n",
    "import ipywidgets as widgets\n",
    "from IPython.display import display\n",
    "import numpy as np\n",
    "import matplotlib.pyplot as plt\n",
    "import pandas as pd\n",
    "from scipy.optimize import curve_fit\n",
    "\n",
    "equipoEtiqueta = widgets.Label (value=\"Seleccione Equipo\")\n",
    "equipo = widgets.IntSlider(min=1, max=7)\n",
    "cajaEquipo = widgets.HBox([equipoEtiqueta, equipo])\n",
    "\n",
    "\n",
    "def obetenerDatosTiempo(equipo):\n",
    "    datos = pd.read_excel('semana-3_Datos_experiencias_I-2022.xlsx', sheet_name = equipo, header = 4, nrows = 5)\n",
    "    return datos\n",
    "\n",
    "def posicion(x, x0, v, a):\n",
    "    resultado = x0 + v*x + 0.5*a*x**2\n",
    "    return resultado\n",
    "\n",
    "def mejorAjustePosicion(x, y):\n",
    "    parametros, parametrosCovarianza = curve_fit(posicion, x, y)\n",
    "    return parametros\n",
    "\n",
    "\n",
    "def calcularPromedio(datos, rango, filas):\n",
    "    listaReacomodada = np.zeros((filas, rango))\n",
    "    promedios = np.zeros(filas)\n",
    "    for i in range(rango):\n",
    "        for j in range(filas ):\n",
    "            listaReacomodada[j][i] = datos.at[j, i+1]\n",
    "    for data in range(filas):\n",
    "        if(data == 0):\n",
    "            promedios[data] = np.average(listaReacomodada[data])\n",
    "        else:\n",
    "            promedios[data] = promedios[data - 1] + np.average(listaReacomodada[data])\n",
    "    return promedios\n",
    "\n",
    "\n",
    "def graficas1(equipo):\n",
    "    datos = obetenerDatosTiempo(equipo - 1)\n",
    "    valoresX = [40, 50, 60, 70, 80]\n",
    "    valoresYPromedios = calcularPromedio(datos, 15, 5)\n",
    "    parametros = mejorAjustePosicion(valoresYPromedios, valoresX)\n",
    "    xAjuste = np.arange(valoresYPromedios[0], valoresYPromedios[-1], 0.1)\n",
    "    yAjuste = parametros[0] + parametros[1]*xAjuste + 0.5*parametros[2]*xAjuste**2\n",
    "    valoresXPredichos = parametros[0] + parametros[1]*valoresYPromedios + 0.5*parametros[2]*valoresYPromedios**2\n",
    "    matrizCorrelacion = np.corrcoef(valoresX, valoresXPredichos)\n",
    "    r = matrizCorrelacion[0, 1]**2\n",
    "    print('Posición inicial: ' + str(round(parametros[0], 2)))\n",
    "    print('Velocidad inicial: ' + str(round(parametros[1], 2)))\n",
    "    print('Aceleración: ' + str(round(parametros[2], 2)))\n",
    "    fig, ax = plt.subplots (dpi=120)\n",
    "    ax.set_xlabel('Tiempo $(s)$')\n",
    "    ax.set_ylabel('Posición $(cm)$')\n",
    "    ax.scatter (valoresYPromedios, valoresX, color = 'red', label = \"Valores experimentales\")\n",
    "    ax.plot(xAjuste, yAjuste, color = 'blue', label = \"Mejor ajuste, $R^2=$\" + str(round(r, 3)))\n",
    "    ax.set_title('Posición vs tiempo')\n",
    "    plt.legend()\n",
    "    plt.grid ()\n",
    "\n",
    "    plt.show()\n",
    "\n",
    "\n",
    "\n",
    "    return\n",
    "\n",
    "salida = widgets.interactive_output(graficas1, {'equipo': equipo})\n",
    "display(cajaEquipo, salida)"
   ]
  },
  {
   "cell_type": "markdown",
   "metadata": {},
   "source": [
    "## 3.2 Variación de la velocidad en función del tiempo"
   ]
  },
  {
   "cell_type": "markdown",
   "metadata": {},
   "source": [
    "6. Confeccione un gráfico de dispersión de la velocidad del carrito en función del tiempo. Utilice\n",
    "Microsoft Excel.\n",
    "\n",
    "7. Rotule correctamente el gráfico (título, ejes y unidades), y agregue la curva de mejor ajuste\n",
    "(línea recta), su ecuación empírica y el coeficiente de determinación (calculados por Microsoft\n",
    "Excel).\n",
    "\n",
    "8. Escriba la ecuación teórica que relaciona la velocidad con el tiempo para un MRUA, obtenida a\n",
    "partir de cinemática. Recuerde que las ecuaciones deben ser escritas utilizando un editor de\n",
    "ecuaciones como el de Microsoft Word.\n",
    "\n",
    "$v = V_0 + a\\cdot t$\n",
    "\n",
    "9. Compare la ecuación empírica (obtenida en el paso 7) con la ecuación teórica escrita en el paso\n",
    "8 para obtener la velocidad inicial y aceleración del carrito. Tenga en consideración que los\n",
    "valores numéricos del modelo empírico corresponden a los parámetros del modelo teórico.\n",
    "\n",
    "10. Compare la pendiente de la curva de mejor ajuste obtenida en el paso 7 con el valor de la\n",
    "aceleración promedio. ¿Existe alguna relación matemática entre ellas? Explique su\n",
    "razonamiento.\n",
    "\n",
    "11. Analice el coeficiente de determinación de la gráfica de velocidad en función del tiempo y\n",
    "explique la principal conclusión que se puede obtener de ese resultado."
   ]
  },
  {
   "cell_type": "code",
   "execution_count": 38,
   "metadata": {
    "pycharm": {
     "name": "#%%\n"
    }
   },
   "outputs": [
    {
     "data": {
      "application/vnd.jupyter.widget-view+json": {
       "model_id": "d8a782c61ac64cf8b2e1a7490d8fa6ee",
       "version_major": 2,
       "version_minor": 0
      },
      "text/plain": [
       "HBox(children=(Label(value='Seleccione Equipo'), IntSlider(value=1, max=7, min=1)))"
      ]
     },
     "metadata": {},
     "output_type": "display_data"
    },
    {
     "data": {
      "application/vnd.jupyter.widget-view+json": {
       "model_id": "fc73d7db58b441d087ee8397c2c5c3c8",
       "version_major": 2,
       "version_minor": 0
      },
      "text/plain": [
       "Output()"
      ]
     },
     "metadata": {},
     "output_type": "display_data"
    }
   ],
   "source": [
    "equipoEtiqueta = widgets.Label (value=\"Seleccione Equipo\")\n",
    "equipo = widgets.IntSlider(min=1, max=7)\n",
    "cajaEquipo = widgets.HBox([equipoEtiqueta, equipo])\n",
    "\n",
    "def velocidad(x, v0, a):\n",
    "    resultado = v0 + a*x\n",
    "    return resultado\n",
    "\n",
    "def calcularPromedioVelocidad(datos, rango, filas):\n",
    "    listaReacomodada = np.zeros((filas, rango))\n",
    "    promedios = np.zeros(filas)\n",
    "    for i in range(rango):\n",
    "        for j in range(filas ):\n",
    "            listaReacomodada[j][i] = datos.at[j, i+1]\n",
    "    for data in range(filas):\n",
    "        promedios[data] = np.average(listaReacomodada[data])\n",
    "    return promedios\n",
    "\n",
    "def mejorAjusteVelocidad(x, y):\n",
    "    parametros, parametrosCovarianza = curve_fit(velocidad, x, y)\n",
    "    return parametros\n",
    "\n",
    "def obetenerDatosVelocidad(equipo):\n",
    "    datos = pd.read_excel('semana-3_Datos_experiencias_I-2022.xlsx', sheet_name = equipo, header = 18, nrows = 8, skiprows = [19])\n",
    "    return datos\n",
    "\n",
    "def graficas2(equipo):\n",
    "    datosVelocidad = obetenerDatosVelocidad(equipo - 1)\n",
    "    datosPosicion = obetenerDatosTiempo(equipo - 1)\n",
    "    valoresX = calcularPromedioVelocidad(datosVelocidad, 3, 6)\n",
    "    valoresYPromedios = calcularPromedio(datosPosicion, 15, 5)\n",
    "    valoresPosicion = np.zeros(6)\n",
    "    valoresPosicion[1:6] = valoresYPromedios\n",
    "    parametros = mejorAjusteVelocidad(valoresPosicion, valoresX)\n",
    "    xAjuste = np.arange(valoresPosicion[0], valoresPosicion[-1], 0.1)\n",
    "    yAjuste = parametros[0] + parametros[1]*xAjuste \n",
    "    valoresXPredichos = parametros[0] + parametros[1]*valoresPosicion \n",
    "    matrizCorrelacion = np.corrcoef(valoresX, valoresXPredichos)\n",
    "    r = matrizCorrelacion[0, 1]**2\n",
    "    print('Velocidad inicial: ' + str(round(parametros[0], 2)))\n",
    "    print('Aceleración: ' + str(round(parametros[1], 2)))\n",
    "    fig, ax = plt.subplots (dpi=120)\n",
    "    ax.set_xlabel('Tiempo $(s)$')\n",
    "    ax.set_ylabel('Velocidad $(cm/s)$')\n",
    "    ax.scatter (valoresPosicion, valoresX, color = 'red', label = \"Valores experimentales\")\n",
    "    ax.plot(xAjuste, yAjuste, color = 'blue', label = \"Mejor ajuste, $R^2=$\" + str(round(r, 3)))\n",
    "    ax.set_title('Velocidad vs tiempo')\n",
    "    plt.legend()\n",
    "    plt.grid ()\n",
    "\n",
    "    plt.show()\n",
    "\n",
    "\n",
    "\n",
    "    return\n",
    "\n",
    "salida = widgets.interactive_output(graficas2, {'equipo': equipo})\n",
    "display(cajaEquipo, salida)"
   ]
  },
  {
   "cell_type": "markdown",
   "metadata": {},
   "source": [
    "## 3.3 Aceleración en función del tiempo (debe corroborar que se aproxima a una constante)"
   ]
  },
  {
   "cell_type": "markdown",
   "metadata": {},
   "source": [
    "12. Confeccione un gráfico de dispersión de la aceleración del carrito en función del tiempo. Utilice\n",
    "Microsoft Excel.\n",
    "\n",
    "13. Realice un ajuste a la escala vertical siguiendo estos pasos: seleccione el eje vertical, pulse el clic\n",
    "derecho, seleccione la opción dar formato al eje y establezca el límite mínimo como 25 y el límite\n",
    "máximo como 50.\n",
    "\n",
    "14. Rotule correctamente el gráfico (título, ejes y unidades)."
   ]
  },
  {
   "cell_type": "code",
   "execution_count": 44,
   "metadata": {},
   "outputs": [
    {
     "data": {
      "application/vnd.jupyter.widget-view+json": {
       "model_id": "cc8a09db1c944978994d28fca5784503",
       "version_major": 2,
       "version_minor": 0
      },
      "text/plain": [
       "HBox(children=(Label(value='Seleccione Equipo'), IntSlider(value=1, max=7, min=1)))"
      ]
     },
     "metadata": {},
     "output_type": "display_data"
    },
    {
     "data": {
      "application/vnd.jupyter.widget-view+json": {
       "model_id": "3abe0ba1a02649c7994b9e6a7ddd2dc8",
       "version_major": 2,
       "version_minor": 0
      },
      "text/plain": [
       "Output()"
      ]
     },
     "metadata": {},
     "output_type": "display_data"
    }
   ],
   "source": [
    "equipoEtiqueta = widgets.Label (value=\"Seleccione Equipo\")\n",
    "equipo = widgets.IntSlider(min=1, max=7)\n",
    "cajaEquipo = widgets.HBox([equipoEtiqueta, equipo])\n",
    "\n",
    "def obetenerDatosAceleracion(equipo):\n",
    "    datos = pd.read_excel('semana-3_Datos_experiencias_I-2022.xlsx', sheet_name = equipo, header = 18, nrows = 3, skiprows = [19], usecols = [6, 7, 8, 9])\n",
    "    return datos\n",
    "\n",
    "def velocidad(x, v0, a):\n",
    "    resultado = v0 + a*x\n",
    "    return resultado\n",
    "\n",
    "def calcularPromedioA(datos, rango, filas):\n",
    "    listaReacomodada = np.zeros((filas, rango))\n",
    "    promedios = []\n",
    "    for i in range(rango):\n",
    "        for j in range(filas ):\n",
    "            listaReacomodada[j][i] = datos.at[j, str(i+1.1)]\n",
    "    for data in range(filas):\n",
    "        promedios += [np.average(listaReacomodada[data])]\n",
    "    return promedios\n",
    "\n",
    "def mejorAjusteVelocidad(x, y):\n",
    "    parametros, parametrosCovarianza = curve_fit(velocidad, x, y)\n",
    "    return parametros\n",
    "\n",
    "def obetenerDatosVelocidad(equipo):\n",
    "    datos = pd.read_excel('semana-3_Datos_experiencias_I-2022.xlsx', sheet_name = equipo, header = 18, nrows = 8, skiprows = [19])\n",
    "    return datos\n",
    "\n",
    "def graficas3(equipo):\n",
    "    datosAceleracion = obetenerDatosAceleracion(equipo - 1)\n",
    "    datosPosicion = obetenerDatosTiempo(equipo - 1)\n",
    "    valoresX = calcularPromedioA(datosAceleracion, 3, 3)\n",
    "    valoresYPromedios = calcularPromedio(datosPosicion, 15, 3)\n",
    "    fig, ax = plt.subplots (dpi=120)\n",
    "    ax.set_ylim([25, 50])\n",
    "    ax.set_xlabel('Tiempo $(s)$')\n",
    "    ax.set_ylabel('Aceleración $(cm/s^2)$')\n",
    "    ax.scatter (valoresYPromedios, valoresX, color = 'red', label = \"Valores experimentales\")\n",
    "    ax.set_title('Aceleración vs tiempo')\n",
    "    plt.legend()\n",
    "    plt.grid ()\n",
    "\n",
    "    plt.show()\n",
    "\n",
    "\n",
    "\n",
    "    return\n",
    "\n",
    "salida = widgets.interactive_output(graficas3, {'equipo': equipo})\n",
    "display(cajaEquipo, salida)"
   ]
  },
  {
   "cell_type": "code",
   "execution_count": null,
   "metadata": {},
   "outputs": [],
   "source": []
  }
 ],
 "metadata": {
  "kernelspec": {
   "display_name": "Python 3",
   "language": "python",
   "name": "python3"
  },
  "language_info": {
   "codemirror_mode": {
    "name": "ipython",
    "version": 3
   },
   "file_extension": ".py",
   "mimetype": "text/x-python",
   "name": "python",
   "nbconvert_exporter": "python",
   "pygments_lexer": "ipython3",
   "version": "3.8.8"
  }
 },
 "nbformat": 4,
 "nbformat_minor": 1
}